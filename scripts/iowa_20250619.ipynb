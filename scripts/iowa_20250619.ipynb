{
 "cells": [
  {
   "cell_type": "code",
   "id": "initial_id",
   "metadata": {
    "collapsed": true,
    "ExecuteTime": {
     "end_time": "2025-06-19T20:58:50.443971Z",
     "start_time": "2025-06-19T20:57:59.196660Z"
    }
   },
   "source": "!pip install pandas snowflake-connector-python\n",
   "outputs": [
    {
     "name": "stdout",
     "output_type": "stream",
     "text": [
      "Collecting pandas\r\n",
      "  Downloading pandas-2.3.0-cp313-cp313-macosx_10_13_x86_64.whl.metadata (91 kB)\r\n",
      "Collecting snowflake-connector-python\r\n",
      "  Downloading snowflake_connector_python-3.15.0-cp313-cp313-macosx_11_0_x86_64.whl.metadata (70 kB)\r\n",
      "Collecting numpy>=1.26.0 (from pandas)\r\n",
      "  Downloading numpy-2.3.0-cp313-cp313-macosx_10_13_x86_64.whl.metadata (62 kB)\r\n",
      "Requirement already satisfied: python-dateutil>=2.8.2 in /Users/johncarrier/Documents/code/iowa-liquor-sales-portfolio/.venv/lib/python3.13/site-packages (from pandas) (2.9.0.post0)\r\n",
      "Collecting pytz>=2020.1 (from pandas)\r\n",
      "  Using cached pytz-2025.2-py2.py3-none-any.whl.metadata (22 kB)\r\n",
      "Collecting tzdata>=2022.7 (from pandas)\r\n",
      "  Using cached tzdata-2025.2-py2.py3-none-any.whl.metadata (1.4 kB)\r\n",
      "Collecting asn1crypto<2.0.0,>0.24.0 (from snowflake-connector-python)\r\n",
      "  Using cached asn1crypto-1.5.1-py2.py3-none-any.whl.metadata (13 kB)\r\n",
      "Collecting boto3>=1.24 (from snowflake-connector-python)\r\n",
      "  Using cached boto3-1.38.40-py3-none-any.whl.metadata (6.6 kB)\r\n",
      "Collecting botocore>=1.24 (from snowflake-connector-python)\r\n",
      "  Using cached botocore-1.38.40-py3-none-any.whl.metadata (5.7 kB)\r\n",
      "Requirement already satisfied: cffi<2.0.0,>=1.9 in /Users/johncarrier/Documents/code/iowa-liquor-sales-portfolio/.venv/lib/python3.13/site-packages (from snowflake-connector-python) (1.17.1)\r\n",
      "Collecting cryptography>=3.1.0 (from snowflake-connector-python)\r\n",
      "  Using cached cryptography-45.0.4-cp311-abi3-macosx_10_9_universal2.whl.metadata (5.7 kB)\r\n",
      "Collecting pyOpenSSL<26.0.0,>=22.0.0 (from snowflake-connector-python)\r\n",
      "  Using cached pyopenssl-25.1.0-py3-none-any.whl.metadata (17 kB)\r\n",
      "Collecting pyjwt<3.0.0 (from snowflake-connector-python)\r\n",
      "  Using cached PyJWT-2.10.1-py3-none-any.whl.metadata (4.0 kB)\r\n",
      "Requirement already satisfied: requests<3.0.0 in /Users/johncarrier/Documents/code/iowa-liquor-sales-portfolio/.venv/lib/python3.13/site-packages (from snowflake-connector-python) (2.32.4)\r\n",
      "Requirement already satisfied: packaging in /Users/johncarrier/Documents/code/iowa-liquor-sales-portfolio/.venv/lib/python3.13/site-packages (from snowflake-connector-python) (25.0)\r\n",
      "Requirement already satisfied: charset_normalizer<4,>=2 in /Users/johncarrier/Documents/code/iowa-liquor-sales-portfolio/.venv/lib/python3.13/site-packages (from snowflake-connector-python) (3.4.2)\r\n",
      "Requirement already satisfied: idna<4,>=2.5 in /Users/johncarrier/Documents/code/iowa-liquor-sales-portfolio/.venv/lib/python3.13/site-packages (from snowflake-connector-python) (3.10)\r\n",
      "Requirement already satisfied: certifi>=2017.4.17 in /Users/johncarrier/Documents/code/iowa-liquor-sales-portfolio/.venv/lib/python3.13/site-packages (from snowflake-connector-python) (2025.6.15)\r\n",
      "Requirement already satisfied: typing_extensions<5,>=4.3 in /Users/johncarrier/Documents/code/iowa-liquor-sales-portfolio/.venv/lib/python3.13/site-packages (from snowflake-connector-python) (4.14.0)\r\n",
      "Collecting filelock<4,>=3.5 (from snowflake-connector-python)\r\n",
      "  Using cached filelock-3.18.0-py3-none-any.whl.metadata (2.9 kB)\r\n",
      "Collecting sortedcontainers>=2.4.0 (from snowflake-connector-python)\r\n",
      "  Using cached sortedcontainers-2.4.0-py2.py3-none-any.whl.metadata (10 kB)\r\n",
      "Requirement already satisfied: platformdirs<5.0.0,>=2.6.0 in /Users/johncarrier/Documents/code/iowa-liquor-sales-portfolio/.venv/lib/python3.13/site-packages (from snowflake-connector-python) (4.3.8)\r\n",
      "Collecting tomlkit (from snowflake-connector-python)\r\n",
      "  Using cached tomlkit-0.13.3-py3-none-any.whl.metadata (2.8 kB)\r\n",
      "Collecting jmespath<2.0.0,>=0.7.1 (from boto3>=1.24->snowflake-connector-python)\r\n",
      "  Using cached jmespath-1.0.1-py3-none-any.whl.metadata (7.6 kB)\r\n",
      "Collecting s3transfer<0.14.0,>=0.13.0 (from boto3>=1.24->snowflake-connector-python)\r\n",
      "  Using cached s3transfer-0.13.0-py3-none-any.whl.metadata (1.7 kB)\r\n",
      "Requirement already satisfied: urllib3!=2.2.0,<3,>=1.25.4 in /Users/johncarrier/Documents/code/iowa-liquor-sales-portfolio/.venv/lib/python3.13/site-packages (from botocore>=1.24->snowflake-connector-python) (2.5.0)\r\n",
      "Requirement already satisfied: pycparser in /Users/johncarrier/Documents/code/iowa-liquor-sales-portfolio/.venv/lib/python3.13/site-packages (from cffi<2.0.0,>=1.9->snowflake-connector-python) (2.22)\r\n",
      "Requirement already satisfied: six>=1.5 in /Users/johncarrier/Documents/code/iowa-liquor-sales-portfolio/.venv/lib/python3.13/site-packages (from python-dateutil>=2.8.2->pandas) (1.17.0)\r\n",
      "Downloading pandas-2.3.0-cp313-cp313-macosx_10_13_x86_64.whl (11.5 MB)\r\n",
      "\u001B[2K   \u001B[90m━━━━━━━━━━━━━━━━━━━━━━━━━━━━━━━━━━━━━━━━\u001B[0m \u001B[32m11.5/11.5 MB\u001B[0m \u001B[31m10.1 MB/s\u001B[0m eta \u001B[36m0:00:00\u001B[0ma \u001B[36m0:00:01\u001B[0m\r\n",
      "\u001B[?25hDownloading snowflake_connector_python-3.15.0-cp313-cp313-macosx_11_0_x86_64.whl (1.0 MB)\r\n",
      "\u001B[2K   \u001B[90m━━━━━━━━━━━━━━━━━━━━━━━━━━━━━━━━━━━━━━━━\u001B[0m \u001B[32m1.0/1.0 MB\u001B[0m \u001B[31m7.9 MB/s\u001B[0m eta \u001B[36m0:00:00\u001B[0m\r\n",
      "\u001B[?25hUsing cached asn1crypto-1.5.1-py2.py3-none-any.whl (105 kB)\r\n",
      "Using cached boto3-1.38.40-py3-none-any.whl (139 kB)\r\n",
      "Using cached botocore-1.38.40-py3-none-any.whl (13.7 MB)\r\n",
      "Using cached cryptography-45.0.4-cp311-abi3-macosx_10_9_universal2.whl (7.1 MB)\r\n",
      "Using cached filelock-3.18.0-py3-none-any.whl (16 kB)\r\n",
      "Downloading numpy-2.3.0-cp313-cp313-macosx_10_13_x86_64.whl (20.9 MB)\r\n",
      "\u001B[2K   \u001B[90m━━━━━━━━━━━━━━━━━━━━━━━━━━━━━━━━━━━━━━━━\u001B[0m \u001B[32m20.9/20.9 MB\u001B[0m \u001B[31m10.0 MB/s\u001B[0m eta \u001B[36m0:00:00\u001B[0m00:01\u001B[0m00:01\u001B[0m\r\n",
      "\u001B[?25hUsing cached PyJWT-2.10.1-py3-none-any.whl (22 kB)\r\n",
      "Using cached pyopenssl-25.1.0-py3-none-any.whl (56 kB)\r\n",
      "Using cached pytz-2025.2-py2.py3-none-any.whl (509 kB)\r\n",
      "Using cached sortedcontainers-2.4.0-py2.py3-none-any.whl (29 kB)\r\n",
      "Using cached tzdata-2025.2-py2.py3-none-any.whl (347 kB)\r\n",
      "Using cached tomlkit-0.13.3-py3-none-any.whl (38 kB)\r\n",
      "Using cached jmespath-1.0.1-py3-none-any.whl (20 kB)\r\n",
      "Using cached s3transfer-0.13.0-py3-none-any.whl (85 kB)\r\n",
      "Installing collected packages: sortedcontainers, pytz, asn1crypto, tzdata, tomlkit, pyjwt, numpy, jmespath, filelock, pandas, cryptography, botocore, s3transfer, pyOpenSSL, boto3, snowflake-connector-python\r\n",
      "Successfully installed asn1crypto-1.5.1 boto3-1.38.40 botocore-1.38.40 cryptography-45.0.4 filelock-3.18.0 jmespath-1.0.1 numpy-2.3.0 pandas-2.3.0 pyOpenSSL-25.1.0 pyjwt-2.10.1 pytz-2025.2 s3transfer-0.13.0 snowflake-connector-python-3.15.0 sortedcontainers-2.4.0 tomlkit-0.13.3 tzdata-2025.2\r\n",
      "\r\n",
      "\u001B[1m[\u001B[0m\u001B[34;49mnotice\u001B[0m\u001B[1;39;49m]\u001B[0m\u001B[39;49m A new release of pip is available: \u001B[0m\u001B[31;49m25.0.1\u001B[0m\u001B[39;49m -> \u001B[0m\u001B[32;49m25.1.1\u001B[0m\r\n",
      "\u001B[1m[\u001B[0m\u001B[34;49mnotice\u001B[0m\u001B[1;39;49m]\u001B[0m\u001B[39;49m To update, run: \u001B[0m\u001B[32;49mpip install --upgrade pip\u001B[0m\r\n"
     ]
    }
   ],
   "execution_count": 2
  },
  {
   "metadata": {},
   "cell_type": "code",
   "outputs": [],
   "execution_count": null,
   "source": "",
   "id": "f3638a1eb5df649b"
  }
 ],
 "metadata": {
  "kernelspec": {
   "display_name": "Python 3",
   "language": "python",
   "name": "python3"
  },
  "language_info": {
   "codemirror_mode": {
    "name": "ipython",
    "version": 2
   },
   "file_extension": ".py",
   "mimetype": "text/x-python",
   "name": "python",
   "nbconvert_exporter": "python",
   "pygments_lexer": "ipython2",
   "version": "2.7.6"
  }
 },
 "nbformat": 4,
 "nbformat_minor": 5
}
